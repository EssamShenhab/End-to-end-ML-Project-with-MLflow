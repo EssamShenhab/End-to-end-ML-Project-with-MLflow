{
 "cells": [
  {
   "cell_type": "code",
   "execution_count": 1,
   "id": "6552b015",
   "metadata": {},
   "outputs": [],
   "source": [
    "import os"
   ]
  },
  {
   "cell_type": "code",
   "execution_count": 2,
   "id": "156aa3d7",
   "metadata": {},
   "outputs": [
    {
     "data": {
      "text/plain": [
       "'/media/essam/01DBE776362F5370/Courses/End-to-End MLOps Projects/Krish/End-to-end-ML-Project-with-MLflow/research'"
      ]
     },
     "execution_count": 2,
     "metadata": {},
     "output_type": "execute_result"
    }
   ],
   "source": [
    "%pwd"
   ]
  },
  {
   "cell_type": "code",
   "execution_count": 3,
   "id": "8c830deb",
   "metadata": {},
   "outputs": [],
   "source": [
    "os.chdir(\"../\")"
   ]
  },
  {
   "cell_type": "code",
   "execution_count": 4,
   "id": "97d4e766",
   "metadata": {},
   "outputs": [
    {
     "data": {
      "text/plain": [
       "'/media/essam/01DBE776362F5370/Courses/End-to-End MLOps Projects/Krish/End-to-end-ML-Project-with-MLflow'"
      ]
     },
     "execution_count": 4,
     "metadata": {},
     "output_type": "execute_result"
    }
   ],
   "source": [
    "%pwd"
   ]
  },
  {
   "cell_type": "code",
   "execution_count": 5,
   "id": "b6a479c5",
   "metadata": {},
   "outputs": [
    {
     "data": {
      "text/html": [
       "<pre style=\"white-space:pre;overflow-x:auto;line-height:normal;font-family:Menlo,'DejaVu Sans Mono',consolas,'Courier New',monospace\">Accessing as EssamShenhab\n",
       "</pre>\n"
      ],
      "text/plain": [
       "Accessing as EssamShenhab\n"
      ]
     },
     "metadata": {},
     "output_type": "display_data"
    },
    {
     "data": {
      "text/html": [
       "<pre style=\"white-space:pre;overflow-x:auto;line-height:normal;font-family:Menlo,'DejaVu Sans Mono',consolas,'Courier New',monospace\">Initialized MLflow to track repo <span style=\"color: #008000; text-decoration-color: #008000\">\"EssamShenhab/End-to-end-ML-Project-with-MLflow\"</span>\n",
       "</pre>\n"
      ],
      "text/plain": [
       "Initialized MLflow to track repo \u001b[32m\"EssamShenhab/End-to-end-ML-Project-with-MLflow\"\u001b[0m\n"
      ]
     },
     "metadata": {},
     "output_type": "display_data"
    },
    {
     "data": {
      "text/html": [
       "<pre style=\"white-space:pre;overflow-x:auto;line-height:normal;font-family:Menlo,'DejaVu Sans Mono',consolas,'Courier New',monospace\">Repository EssamShenhab/End-to-end-ML-Project-with-MLflow initialized!\n",
       "</pre>\n"
      ],
      "text/plain": [
       "Repository EssamShenhab/End-to-end-ML-Project-with-MLflow initialized!\n"
      ]
     },
     "metadata": {},
     "output_type": "display_data"
    },
    {
     "name": "stdout",
     "output_type": "stream",
     "text": [
      "🏃 View run whimsical-skink-954 at: https://dagshub.com/EssamShenhab/End-to-end-ML-Project-with-MLflow.mlflow/#/experiments/0/runs/700adbe15d214fd3a8988803f4f713e9\n",
      "🧪 View experiment at: https://dagshub.com/EssamShenhab/End-to-end-ML-Project-with-MLflow.mlflow/#/experiments/0\n"
     ]
    }
   ],
   "source": [
    "import dagshub\n",
    "dagshub.init(repo_owner='EssamShenhab', repo_name='End-to-end-ML-Project-with-MLflow', mlflow=True)\n",
    "\n",
    "import mlflow\n",
    "with mlflow.start_run():\n",
    "  mlflow.log_param('parameter name', 'value')\n",
    "  mlflow.log_metric('metric name', 1)"
   ]
  },
  {
   "cell_type": "code",
   "execution_count": 6,
   "id": "6fecb799",
   "metadata": {},
   "outputs": [],
   "source": [
    "from dataclasses import dataclass\n",
    "from pathlib import Path\n",
    "\n",
    "\n",
    "@dataclass(frozen=True)\n",
    "class ModelEvaluationConfig:\n",
    "    root_dir: Path\n",
    "    test_data_path: Path\n",
    "    model_path: Path\n",
    "    all_params: dict\n",
    "    metric_file_name: Path\n",
    "    target_column: str\n",
    "    mlflow_uri: str"
   ]
  },
  {
   "cell_type": "code",
   "execution_count": 7,
   "id": "e176ac3b",
   "metadata": {},
   "outputs": [],
   "source": [
    "from ML_Project.constants import *\n",
    "from ML_Project.utils.common import read_yaml, create_directories, save_json"
   ]
  },
  {
   "cell_type": "code",
   "execution_count": 8,
   "id": "4e61628b",
   "metadata": {},
   "outputs": [],
   "source": [
    "class ConfigurationManager:\n",
    "    def __init__(\n",
    "        self,\n",
    "        config_filepath = CONFIG_FILE_PATH,\n",
    "        params_filepath = PARAMS_FILE_PATH,\n",
    "        schema_filepath = SCHEMA_FILE_PATH):\n",
    "\n",
    "        self.config = read_yaml(config_filepath)\n",
    "        self.params = read_yaml(params_filepath)\n",
    "        self.schema = read_yaml(schema_filepath)\n",
    "\n",
    "        create_directories([self.config.artifacts_root])\n",
    "\n",
    "    \n",
    "    def get_model_evaluation_config(self) -> ModelEvaluationConfig:\n",
    "        config = self.config.model_evaluation\n",
    "        params = self.params.ElasticNet\n",
    "        schema =  self.schema.TARGET_COLUMN\n",
    "\n",
    "        create_directories([config.root_dir])\n",
    "\n",
    "        model_evaluation_config = ModelEvaluationConfig(\n",
    "            root_dir=config.root_dir,\n",
    "            test_data_path=config.test_data_path,\n",
    "            model_path = config.model_path,\n",
    "            all_params=params,\n",
    "            metric_file_name = config.metric_file_name,\n",
    "            target_column = schema.name,\n",
    "            mlflow_uri=\"https://dagshub.com/EssamShenhab/End-to-end-ML-Project-with-MLflow.mlflow\",\n",
    "        )\n",
    "\n",
    "        return model_evaluation_config\n"
   ]
  },
  {
   "cell_type": "code",
   "execution_count": 9,
   "id": "88339d9c",
   "metadata": {},
   "outputs": [],
   "source": [
    "import os\n",
    "import pandas as pd\n",
    "from sklearn.metrics import mean_squared_error, mean_absolute_error, r2_score\n",
    "from urllib.parse import urlparse\n",
    "import mlflow\n",
    "import mlflow.sklearn\n",
    "import numpy as np\n",
    "import joblib\n",
    "from mlflow.models import infer_signature"
   ]
  },
  {
   "cell_type": "code",
   "execution_count": 10,
   "id": "91fc7748",
   "metadata": {},
   "outputs": [],
   "source": [
    "\n",
    "class ModelEvaluation:\n",
    "    def __init__(self, config: ModelEvaluationConfig):\n",
    "        \"\"\"\n",
    "        Initialize with a config object containing evaluation settings.\n",
    "        \"\"\"\n",
    "        self.config = config\n",
    "\n",
    "    def eval_metrics(self, actual, pred):\n",
    "        \"\"\"\n",
    "        Compute evaluation metrics.\n",
    "        \"\"\"\n",
    "        rmse = np.sqrt(mean_squared_error(actual, pred))\n",
    "        mae = mean_absolute_error(actual, pred)\n",
    "        r2 = r2_score(actual, pred)\n",
    "        return rmse, mae, r2\n",
    "\n",
    "    def log_into_mlflow(self):\n",
    "        \"\"\"\n",
    "        Evaluate model, log metrics and model to MLflow, and save metrics locally.\n",
    "        \"\"\"\n",
    "        try:\n",
    "            # Load test data and model\n",
    "            test_data = pd.read_csv(self.config.test_data_path)\n",
    "            model = joblib.load(self.config.model_path)\n",
    "\n",
    "            test_x = test_data.drop(columns=[self.config.target_column])\n",
    "            test_y = test_data[self.config.target_column].values  # Convert to 1D array\n",
    "\n",
    "            mlflow.set_registry_uri(self.config.mlflow_uri)\n",
    "            tracking_url_type_store = urlparse(mlflow.get_tracking_uri()).scheme\n",
    "\n",
    "            with mlflow.start_run():\n",
    "                predicted_qualities = model.predict(test_x)\n",
    "\n",
    "                # Evaluate\n",
    "                rmse, mae, r2 = self.eval_metrics(test_y, predicted_qualities)\n",
    "\n",
    "                # Save metrics locally\n",
    "                scores = {\"rmse\": rmse, \"mae\": mae, \"r2\": r2}\n",
    "                save_json(path=Path(self.config.metric_file_name), data=scores)\n",
    "\n",
    "                # Log parameters and metrics\n",
    "                mlflow.log_params(self.config.all_params)\n",
    "                mlflow.log_metrics({\"rmse\": rmse, \"mae\": mae, \"r2\": r2})\n",
    "\n",
    "                # Log model (and register if not file-based)\n",
    "                input_example = test_x.iloc[:1]\n",
    "                signature = infer_signature(test_x, predicted_qualities)\n",
    "\n",
    "                if tracking_url_type_store != \"file\":\n",
    "                    mlflow.sklearn.log_model(\n",
    "                        model,\n",
    "                        \"model\",\n",
    "                        registered_model_name=\"ElasticnetModel\",\n",
    "                        input_example=input_example,\n",
    "                        signature=signature\n",
    "                    )\n",
    "                else:\n",
    "                    mlflow.sklearn.log_model(\n",
    "                        model,\n",
    "                        \"model\",\n",
    "                        input_example=input_example,\n",
    "                        signature=signature\n",
    "                    )\n",
    "\n",
    "        except Exception as e:\n",
    "            raise RuntimeError(f\"Model evaluation failed: {e}\")\n"
   ]
  },
  {
   "cell_type": "code",
   "execution_count": 11,
   "id": "362cfd6a",
   "metadata": {},
   "outputs": [
    {
     "name": "stdout",
     "output_type": "stream",
     "text": [
      "[2025-08-06 01:47:40,210: INFO: common: yaml file: config/config.yaml loaded successfully]\n",
      "[2025-08-06 01:47:40,211: INFO: common: yaml file: params.yaml loaded successfully]\n",
      "[2025-08-06 01:47:40,214: INFO: common: yaml file: schema.yaml loaded successfully]\n",
      "[2025-08-06 01:47:40,215: INFO: common: created directory at: artifacts]\n",
      "[2025-08-06 01:47:40,217: INFO: common: created directory at: artifacts/model_evaluation]\n"
     ]
    },
    {
     "name": "stdout",
     "output_type": "stream",
     "text": [
      "[2025-08-06 01:47:40,697: INFO: common: json file saved at: artifacts/model_evaluation/metrics.json]\n"
     ]
    },
    {
     "name": "stderr",
     "output_type": "stream",
     "text": [
      "Registered model 'ElasticnetModel' already exists. Creating a new version of this model...\n",
      "2025/08/06 01:47:57 INFO mlflow.store.model_registry.abstract_store: Waiting up to 300 seconds for model version to finish creation. Model name: ElasticnetModel, version 2\n",
      "Created version '2' of model 'ElasticnetModel'.\n"
     ]
    },
    {
     "name": "stdout",
     "output_type": "stream",
     "text": [
      "🏃 View run victorious-croc-964 at: https://dagshub.com/EssamShenhab/End-to-end-ML-Project-with-MLflow.mlflow/#/experiments/0/runs/5a7eeee1c0964ac8beab475b44e6dc2a\n",
      "🧪 View experiment at: https://dagshub.com/EssamShenhab/End-to-end-ML-Project-with-MLflow.mlflow/#/experiments/0\n"
     ]
    }
   ],
   "source": [
    "try:\n",
    "    config = ConfigurationManager()\n",
    "    model_evaluation_config = config.get_model_evaluation_config()\n",
    "    model_evaluation_config = ModelEvaluation(config=model_evaluation_config)\n",
    "    model_evaluation_config.log_into_mlflow()\n",
    "except Exception as e:\n",
    "    raise e"
   ]
  }
 ],
 "metadata": {
  "kernelspec": {
   "display_name": "mlflow_env",
   "language": "python",
   "name": "python3"
  },
  "language_info": {
   "codemirror_mode": {
    "name": "ipython",
    "version": 3
   },
   "file_extension": ".py",
   "mimetype": "text/x-python",
   "name": "python",
   "nbconvert_exporter": "python",
   "pygments_lexer": "ipython3",
   "version": "3.9.21"
  }
 },
 "nbformat": 4,
 "nbformat_minor": 5
}
